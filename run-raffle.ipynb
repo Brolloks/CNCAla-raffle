{
 "cells": [
  {
   "cell_type": "markdown",
   "id": "bd8fe47f-e0c4-46b6-8b71-a719c724f083",
   "metadata": {},
   "source": [
    "# Running a raffle with Marlowe\n",
    "\n",
    "The raffle contract receives a deposit of a prize and then an oracle randomly selects the winner. The contract would be too large to fit on the blockchain because of the hundreds of possible winners, so Marlowe's merkleization capability is used to break up the contract into manageable pieces. The pieces are \"glued together\" using Marlowe's `Notify` block, so that the contract can walk a hierarchy of possible winners down to the actual winner.\n",
    "\n",
    "Below is a diagram of the raffle contract, showing the transactions as arrows:\n",
    "1.  Create the contract.\n",
    "2.  Deposit the prize token.\n",
    "3.  The oracle randomly chooses a winner.\n",
    "4.  The first notify branches five-fold according the the random number chosen by the oracle.\n",
    "    -   The *first* branch is taken if the winner is among the *first* group of 125 addresses.\n",
    "    -   The *second* branch is taken if the winner is among the *second* group of 125 addresses.\n",
    "    -   The *third* branch is taken if the winner is among the *third* group of 125 addresses.\n",
    "    -   The *fourth* branch is taken if the winner is among the *fourth* group of 125 addresses.\n",
    "    -   The *fifth* branch is taken if the winner is among the *fifth* group of 125 addresses.\n",
    "5.  The second notify branches five-fold according the the random number chosen by the oracle.\n",
    "    -   The first branch is taken if the winner is among the first group of 25 addresses within the previously selected 125 addresses.\n",
    "    -   Etc.\n",
    "6.  The third notify branches five-fold according the the random number chosen by the oracle.\n",
    "    -   The first branch is taken if the winner is among the first group of 5 addresses within the previously selected 25 addresses.\n",
    "    -   Etc.\n",
    "7.  The fourth notify branches five-fold according the the random number chosen by the oracle.\n",
    "    -   The first branch is taken if the winner is among the first of the previously selected 5 addresses, and the prize is paid to that address.\n",
    "    -   Etc.\n",
    "    \n",
    "![Hierarchy of transactions in the raffle contract.](hierarchy.png)"
   ]
  },
  {
   "cell_type": "markdown",
   "id": "bca64611-114a-467a-a514-44e7d163c868",
   "metadata": {},
   "source": [
    "## Prerequisites"
   ]
  },
  {
   "cell_type": "markdown",
   "id": "395cae96-694b-4904-be41-755dd6ec56e5",
   "metadata": {},
   "source": [
    "#### First prize\n",
    "\n",
    "We need to know the policy ID and token name for the NFT serves as the Marlowe role token for redeeming the first prize. There is no requirement for this token beyond that we know its policy ID and token name.\n",
    "\n",
    "For the purposes of this narrative example, let's say we have the following. ***For the real raffle, these values must be replaced by those for the action first-prize redemption token.***"
   ]
  },
  {
   "cell_type": "code",
   "execution_count": 12,
   "id": "97f28a44-41b9-4162-b9a1-5a90d5913994",
   "metadata": {
    "tags": [],
    "vscode": {
     "languageId": "shellscript"
    }
   },
   "outputs": [],
   "source": [
    "# Replace with actual policy and name!\n",
    "PRIZE1_POLICY=8bb3b343d8e404472337966a722150048c768d0a92a9813596c5338d\n",
    "PRIZE1_NAME=1stPrize"
   ]
  },
  {
   "cell_type": "markdown",
   "id": "f694aba1-6349-4d5b-b51d-0bf83bf64e51",
   "metadata": {},
   "source": [
    "#### Second prize\n",
    "\n",
    "Now repeat the same steps for the second prize.\n",
    "\n",
    "For the purposes of this narrative example, let's say we have the following. For the real raffle, these values must be replaced by those for the action second-prize redemption token."
   ]
  },
  {
   "cell_type": "code",
   "execution_count": 22,
   "id": "cb2b5555-e942-4d58-b592-b3c0fa6d11bc",
   "metadata": {
    "tags": [],
    "vscode": {
     "languageId": "shellscript"
    }
   },
   "outputs": [],
   "source": [
    "# Replace with actual policy and name!\n",
    "PRIZE2_POLICY=8bb3b343d8e404472337966a722150048c768d0a92a9813596c5338d\n",
    "PRIZE2_NAME=2ndPrize"
   ]
  },
  {
   "cell_type": "markdown",
   "id": "3078bd09-049d-436b-bc16-ba4b945ad161",
   "metadata": {},
   "source": [
    "#### Third prize\n",
    "\n",
    "Now repeat the same steps for the third prize.\n",
    "\n",
    "For the purposes of this narrative example, let's say we have the following. For the real raffle, these values must be replaced by those for the action third-prize redemption token."
   ]
  },
  {
   "cell_type": "code",
   "execution_count": 31,
   "id": "0390a0ae-764d-41c6-9d6a-bffd0a41677d",
   "metadata": {
    "tags": [],
    "vscode": {
     "languageId": "shellscript"
    }
   },
   "outputs": [],
   "source": [
    "# Replace with actual policy and name!\n",
    "PRIZE3_POLICY=8bb3b343d8e404472337966a722150048c768d0a92a9813596c5338d\n",
    "PRIZE3_NAME=3rdPrize"
   ]
  },
  {
   "cell_type": "markdown",
   "id": "8eaa414e-3148-4cf6-86f9-42cdad69771b",
   "metadata": {},
   "source": [
    "## Running the raffle"
   ]
  },
  {
   "cell_type": "markdown",
   "id": "b0291ba5-fe4b-44d0-bde6-41dff68e4047",
   "metadata": {},
   "source": [
    "### Ensure that the three prize tokens reside at the sponsor address\n",
    "\n",
    "Send the three prize tokens (the Marlowe role tokens) to the sponsor address."
   ]
  },
  {
   "cell_type": "code",
   "execution_count": 43,
   "id": "75556e4d-d666-42cb-8a9a-3ca745b4c3d5",
   "metadata": {
    "tags": [],
    "vscode": {
     "languageId": "shellscript"
    }
   },
   "outputs": [
    {
     "name": "stdout",
     "output_type": "stream",
     "text": [
      "SPONSOR_ADDR = addr1q95e9feu4hkp4qwvgqasq02na05z3eg33zzjquf2d86e6qzznwng4gtlladnxm7d486psa003jy6dv230t82rvv3pflqeuzzt2\n"
     ]
    }
   ],
   "source": [
    "SPONSOR_SKEY=sponsor.skey\n",
    "SPONSOR_ADDR=$(cat sponsor.mainnet.address)\n",
    "echo \"SPONSOR_ADDR = $SPONSOR_ADDR\""
   ]
  },
  {
   "cell_type": "markdown",
   "id": "0e4e1d2d-888e-44f7-8da0-21b07f6b17b0",
   "metadata": {},
   "source": [
    "After the tokens have been sent, we can query to see them."
   ]
  },
  {
   "cell_type": "code",
   "execution_count": 44,
   "id": "b0d985ea-956e-4de9-b3aa-ae70b30f2eec",
   "metadata": {
    "tags": [],
    "vscode": {
     "languageId": "shellscript"
    }
   },
   "outputs": [
    {
     "name": "stdout",
     "output_type": "stream",
     "text": [
      "                           TxHash                                 TxIx        Amount\n",
      "--------------------------------------------------------------------------------------\n",
      "63fe0d17bfdc9749c64858abcb9111f448ddbedd28a3a8e45a076faefadc0e06     0        38203831 lovelace + TxOutDatumNone\n",
      "63fe0d17bfdc9749c64858abcb9111f448ddbedd28a3a8e45a076faefadc0e06     1        2000000 lovelace + 1 8bb3b343d8e404472337966a722150048c768d0a92a9813596c5338d.3173745072697a65 + TxOutDatumNone\n",
      "63fe0d17bfdc9749c64858abcb9111f448ddbedd28a3a8e45a076faefadc0e06     2        2000000 lovelace + 1 8bb3b343d8e404472337966a722150048c768d0a92a9813596c5338d.326e645072697a65 + TxOutDatumNone\n",
      "63fe0d17bfdc9749c64858abcb9111f448ddbedd28a3a8e45a076faefadc0e06     3        2000000 lovelace + 1 8bb3b343d8e404472337966a722150048c768d0a92a9813596c5338d.3372645072697a65 + TxOutDatumNone\n"
     ]
    }
   ],
   "source": [
    "cardano-cli query utxo --mainnet --address $SPONSOR_ADDR"
   ]
  },
  {
   "cell_type": "markdown",
   "id": "630ec182-f579-4539-84ee-20bb7dfbaea9",
   "metadata": {},
   "source": [
    "### Download the executables to run the raffle.\n",
    "\n",
    "The script residing at https://github.com/input-output-hk/real-world-marlowe/tree/main/archives/raffle are compiled to executables that should work on any recent Linux machine."
   ]
  },
  {
   "cell_type": "code",
   "execution_count": 45,
   "id": "d92b839d-9a56-48fe-8c60-af81b5166f79",
   "metadata": {
    "tags": [],
    "vscode": {
     "languageId": "shellscript"
    }
   },
   "outputs": [],
   "source": [
    "curl -sS http://dl.marlowestat.org/raffle-bin.tar -o raffle-bin.tar"
   ]
  },
  {
   "cell_type": "markdown",
   "id": "18cb04b4-b962-4e06-b940-d232705e58ad",
   "metadata": {},
   "source": [
    "Unpack the executable files."
   ]
  },
  {
   "cell_type": "code",
   "execution_count": 46,
   "id": "95d322d8-0b48-439c-b113-9688d99d0735",
   "metadata": {
    "tags": [],
    "vscode": {
     "languageId": "shellscript"
    }
   },
   "outputs": [
    {
     "name": "stdout",
     "output_type": "stream",
     "text": [
      "bin/\n",
      "bin/cardano-cli\n",
      "bin/marlowe-cli\n",
      "bin/marlowe-runtime-cli\n",
      "bin/InitializeRaffle\n",
      "bin/ExecuteRaffle\n"
     ]
    }
   ],
   "source": [
    "tar xvf raffle-bin.tar"
   ]
  },
  {
   "cell_type": "markdown",
   "id": "19fdcf61-d648-4b5b-a97f-ec5343bf71a5",
   "metadata": {},
   "source": [
    "Put the executables at the front of the search path."
   ]
  },
  {
   "cell_type": "code",
   "execution_count": 47,
   "id": "a0c14065-ca6f-456b-93e5-fdd484dbd08a",
   "metadata": {
    "tags": [],
    "vscode": {
     "languageId": "shellscript"
    }
   },
   "outputs": [],
   "source": [
    "export PATH=$PWD/bin:$PATH"
   ]
  },
  {
   "cell_type": "markdown",
   "id": "53a081cc-9f34-46d2-ba31-2cb078f9ae5f",
   "metadata": {},
   "source": [
    "### Run the raffle for the first prize\n",
    "\n",
    "First create the file that describes the role token holding the first prize."
   ]
  },
  {
   "cell_type": "code",
   "execution_count": 48,
   "id": "febf2114-e0cf-4a4b-8544-0c5061045310",
   "metadata": {
    "tags": [],
    "vscode": {
     "languageId": "shellscript"
    }
   },
   "outputs": [
    {
     "name": "stdout",
     "output_type": "stream",
     "text": [
      "[\n",
      "    [\n",
      "        \"8bb3b343d8e404472337966a722150048c768d0a92a9813596c5338d\",\n",
      "        \"1stPrize\"\n",
      "    ]\n",
      "]\n"
     ]
    }
   ],
   "source": [
    "cat << EOI > first-prize.token\n",
    "[\n",
    "    [\n",
    "        \"$PRIZE1_POLICY\",\n",
    "        \"$PRIZE1_NAME\"\n",
    "    ]\n",
    "]\n",
    "EOI\n",
    "cat first-prize.token"
   ]
  },
  {
   "cell_type": "markdown",
   "id": "c08bd2d7-5f73-47d0-8940-d3cbdff65396",
   "metadata": {
    "tags": []
   },
   "source": [
    "Now create the file with the addresses of the raffle ticket holders."
   ]
  },
  {
   "cell_type": "code",
   "execution_count": 49,
   "id": "22f83fe0-225a-4bcc-99cf-58a6b3d306f7",
   "metadata": {
    "tags": [],
    "vscode": {
     "languageId": "shellscript"
    }
   },
   "outputs": [
    {
     "name": "stdout",
     "output_type": "stream",
     "text": [
      "[{\"asset_name\":\"5469636b6574233939\",\"payment_address\":\"addr1q97q4e9nlhq08mrugs8pm5uq045e425w72mxhxupq9qqgykr7cz4mu6gh005gdck67p7y9d8s8zsfgjkcdy75mrjh6jq3dk3ng\",\"quantity\":\"1\"},\n",
      " {\"asset_name\":\"5469636b6574233938\",\"payment_address\":\"addr1qxmph7666hj5yadja34pdlm8n5un0fhc9p0hv2g9ask7m49n3kr657fpa3q8mzwmjqvl9lqdn9g2pm3ejhlgwpprwy2sq5s22j\",\"quantity\":\"1\"},\n",
      " {\"asset_name\":\"5469636b6574233937\",\"payment_address\":\"addr1q8pdjzhjthflmtu947feruy6rnu0zr8x7xlppgqxrew62xqwpjujxwjglw2gelk9thqcta802lprejcu4y8dtz64uhnsaeaet6\",\"quantity\":\"1\"},\n",
      " {\"asset_name\":\"5469636b6574233936\",\"payment_address\":\"addr1q9zun0s6thsyf9qt0zyfnn50x8kpwutrv20eq8dgx9gt6tkr7cz4mu6gh005gdck67p7y9d8s8zsfgjkcdy75mrjh6jq2x0dua\",\"quantity\":\"1\"},\n",
      " {\"asset_name\":\"5469636b6574233935\",\"payment_address\":\"addr1qy5sj3v265ucpuy7ea7h7qy533xnhcl9ru3g24xcetrnxu4n3kr657fpa3q8mzwmjqvl9lqdn9g2pm3ejhlgwpprwy2slm3vfx\",\"quantity\":\"1\"},\n",
      " {\"asset_name\":\"5469636b6574233934\",\"payment_address\":\"addr1qy5lsaapah8d5pf8s2uvnnas4yk9s55vgns4jsvzz5exksgwpjujxwjglw2gelk9thqcta802lprejcu4y8dtz64uhnsluyccl\",\"quantity\":\"1\"},\n",
      " {\"asset_name\":\"5469636b6574233933\",\"payment_address\":\"addr1qypet7s339suufnxmr4vrg09469v30g59yxa70yrkxvrfekr7cz4mu6gh005gdck67p7y9d8s8zsfgjkcdy75mrjh6jqjg9sm2\",\"quantity\":\"1\"},\n",
      " {\"asset_name\":\"5469636b6574233932\",\"payment_address\":\"addr1qx26pe2wlf9x532vsh2cd6swfae2eanadz8kpqc7trzpfzdn3kr657fpa3q8mzwmjqvl9lqdn9g2pm3ejhlgwpprwy2sjgremk\",\"quantity\":\"1\"},\n",
      " {\"asset_name\":\"5469636b6574233931\",\"payment_address\":\"addr1q9jqjkxx0rjp08zffmwxyc3gtvkry56akn7p07dqjc649tgwpjujxwjglw2gelk9thqcta802lprejcu4y8dtz64uhns0qafe4\",\"quantity\":\"1\"},\n",
      " {\"asset_name\":\"5469636b6574233930\",\"payment_address\":\"addr1q9pr8ue92zznn2k3v235fuxtpcun9k32g8jn09dsq3ndvawr7cz4mu6gh005gdck67p7y9d8s8zsfgjkcdy75mrjh6jq5uzypa\",\"quantity\":\"1\"},\n"
     ]
    }
   ],
   "source": [
    "head first-prize.addresses"
   ]
  },
  {
   "cell_type": "markdown",
   "id": "91906772-e9d8-44bd-9cd2-6770f4b615ad",
   "metadata": {},
   "source": [
    "Now create the configuration file for running the raffle."
   ]
  },
  {
   "cell_type": "code",
   "execution_count": 50,
   "id": "579a877c-81d3-425e-bb1b-2bc39a1662c8",
   "metadata": {
    "tags": [],
    "vscode": {
     "languageId": "shellscript"
    }
   },
   "outputs": [
    {
     "name": "stdout",
     "output_type": "stream",
     "text": [
      "{\"chunkSize\":5,\"contract\":\"first-prize.contract\",\"deadlines\":{\"deposit\":\"3d\",\"payout\":\"3d\",\"selectWinner\":\"3d\"},\"runtimeURI\":{\"host\":\"34.70.189.123\",\"proxy_port\":3700,\"web_port\":3780},\"sponsorAddressFilePath\":\"sponsor.mainnet.address\",\"sponsorCollateralFilePath\":\"not-used\",\"sponsorPrivateKeyFilePath\":\"sponsor.skey\",\"state\":\"first-prize.state\",\"tmpTxToSign\":\"temp.unsigned\",\"tmpTxToSubmit\":\"temp.signed\"}\n"
     ]
    }
   ],
   "source": [
    "yaml2json << EOI > first-prize.config\n",
    "chunkSize: 5          # Danger: do not change the chunk size.\n",
    "deadlines:\n",
    "  deposit: 3d         # Deadline for depositing the prize token.\n",
    "  selectWinner: 3d    # Deadline for selecting the winner.\n",
    "  payout: 3d          # Deadline for paying the winner.\n",
    "runtimeURI:\n",
    "  proxy_host: 34.70.189.123  # The IP address of Marlowe Runtime v0.0.4. Use $MARLOWE_RT_HOST if a backup is needed.\n",
    "  proxy_port: 3700           # The port number for Marlowe Runtime's proxy service. Use $MARLOWE_RT_PORT for the backup.\n",
    "  web_host: 34.70.189.123    # The IP address of Marlowe Runtime v0.0.4. Use $MARLOWE_RT_WEBSERVER_HOST if a backup is needed.\n",
    "  web_port: 3780             # The port number for Marlowe Runtime's web server. Use $MARLOWE_RT_WEBSERVER_PORT for the backup.\n",
    "sponsorAddressFilePath: sponsor.mainnet.address\n",
    "sponsorCollateralFilePath: not-used\n",
    "sponsorPrivateKeyFilePath: sponsor.skey\n",
    "contract: first-prize.contract\n",
    "state: first-prize.state\n",
    "tmpTxToSign: temp.unsigned\n",
    "tmpTxToSubmit: temp.signed\n",
    "EOI\n",
    "cat first-prize.config"
   ]
  },
  {
   "cell_type": "markdown",
   "id": "ccda6c23-c689-4e02-a661-6bd29a74bf80",
   "metadata": {},
   "source": [
    "Now build and submit the transaction that initializes the raffle."
   ]
  },
  {
   "cell_type": "code",
   "execution_count": 51,
   "id": "70fa054b-2303-4b4a-aa8c-1cdf65348725",
   "metadata": {
    "tags": [],
    "vscode": {
     "languageId": "shellscript"
    }
   },
   "outputs": [
    {
     "name": "stdout",
     "output_type": "stream",
     "text": [
      "#########################\n",
      "Raffle Contract Generation & Initialisation\n",
      "-------------------------\n",
      " >> Raffle Contract saved in : first-prize.contract\n",
      "-------------------------\n",
      "Raffle Contract Generated\n",
      "-------------------------\n",
      " >> Contract stored with hash: 79316f8ec81177f8797ef2e953b52773f9007f9c9c4f4c681ef5f259fcf190dc\n",
      "Safety analysis found the following errors in the contract:\n",
      "- detail: The safety analysis exceeded the allotted time.\n",
      "  error: SafetyAnalysisTimeout\n",
      "  fatal: false\n",
      "\n",
      "{\"contractId\":\"9815e1a9b2bed549d60bd0b903166f79958888f727853be8690f84554e308d1d#1\"}\n",
      " >> tx signed\n",
      "{\"blockHeaderHash\":\"36b1047cffbf12c888bec87ce5fb1b12ecf1fb31c42c9bf58e335e23f60dd8bb\",\"blockNo\":9190057,\"slotNo\":101092657}\n",
      " >> tx submitted\n",
      " >> Contract initialzed (tx appended)\n",
      "-------------------------\n",
      "Raffle Contract Initialized : {\"contractId\":\"9815e1a9b2bed549d60bd0b903166f79958888f727853be8690f84554e308d1d#1\"}\n",
      "-------------------------\n",
      "#########################\n",
      "{\"contractId\":\"9815e1a9b2bed549d60bd0b903166f79958888f727853be8690f84554e308d1d#1\"}\n"
     ]
    }
   ],
   "source": [
    "InitializeRaffle first-prize.config first-prize.addresses first-prize.token"
   ]
  },
  {
   "cell_type": "markdown",
   "id": "103b954d-f42f-425e-b6de-2af2e357d00f",
   "metadata": {},
   "source": [
    "Record the contract ID that was printed."
   ]
  },
  {
   "cell_type": "code",
   "execution_count": 52,
   "id": "256347eb-2830-4b10-9d3d-f118e5b52a00",
   "metadata": {
    "tags": [],
    "vscode": {
     "languageId": "shellscript"
    }
   },
   "outputs": [],
   "source": [
    "PRIZE1_CONTRACT=9815e1a9b2bed549d60bd0b903166f79958888f727853be8690f84554e308d1d#1"
   ]
  },
  {
   "cell_type": "markdown",
   "id": "9f924151-7ccf-4919-822a-906e30bd7479",
   "metadata": {
    "tags": [],
    "vscode": {
     "languageId": "shellscript"
    }
   },
   "source": [
    "Run the raffle itself, which consists of several transactions:\n",
    "1. Deposit the prize token.\n",
    "2. Have the oracle retrieve a random number from https://www.random.org/.\n",
    "3. Execute several Marlowe notify transactions to locate the winner.\n",
    "4. Send the prize token to the winner."
   ]
  },
  {
   "cell_type": "code",
   "execution_count": 53,
   "id": "b39a9219-5e22-41fb-9259-3f656e0735ac",
   "metadata": {
    "tags": [],
    "vscode": {
     "languageId": "shellscript"
    }
   },
   "outputs": [
    {
     "name": "stdout",
     "output_type": "stream",
     "text": [
      "\n",
      "#########################\n",
      "WaitingForPrizeDeposit\n",
      " >> Depositing 1stPrize\n",
      "{\"txId\":\"72c6ec4b45a0490ec6d99b6f752a5ff663db459c6963ff5fe9efa0655f5812c2\"}\n",
      " >> tx signed\n",
      "{\"blockHeaderHash\":\"95f80c8af22747489a34f55d3286683731f1ccb68287513070f408fd66368b97\",\"blockNo\":9190063,\"slotNo\":101092712}\n",
      " >> tx submitted\n",
      " >> 1stPrize deposited\n",
      ">>>> Prize NFTs Deposited\n",
      "#########################\n",
      "\n",
      "#########################\n",
      "WaitingForOracle\n",
      "#########################\n",
      "{\"txId\":\"7657ab07d74ff11d50be28111dae82ebac77ae71fbf3c6d6e37d9d178a7f75af\"}\n",
      " >> tx signed\n",
      "{\"blockHeaderHash\":\"b8e67b13c7fa6961e92689184c20549d83be0d0630dac74f52a2a1a50f0d4ad2\",\"blockNo\":9190064,\"slotNo\":101092729}\n",
      " >> tx submitted\n",
      ">>>> Oracle has answered with 268\n",
      ">>>> Winning ticket is 5469636b657423333938 (Ticket#398)\n",
      ">>>> Snapshotted address is addr1qxe3seuxx0kdylmr26an7hh4xsn8z4jkk7q9ha3lun6w08dn3kr657fpa3q8mzwmjqvl9lqdn9g2pm3ejhlgwpprwy2sr0avw6\n",
      "#########################\n",
      "\n",
      "#########################\n",
      "WaitingForNotify\n",
      "#########################\n",
      "{\"txId\":\"ae0a9290f370adf569e3f08aeb504fddb7609bc7817dd3543e65cbdc4dd49e6f\"}\n",
      " >> tx signed\n",
      "{\"blockHeaderHash\":\"683cd8a71c172df7294779e2f27cb1381283d14728a627a95d301dfa1f7c8fb6\",\"blockNo\":9190065,\"slotNo\":101092772}\n",
      " >> tx submitted\n",
      " >> Notified\n",
      "#########################\n",
      "\n",
      "#########################\n",
      "WaitingForNotify\n",
      "#########################\n",
      "{\"txId\":\"fcb2ae13761547f1490886ca5cd1c194d7152ed306c568492040ee93d25152fc\"}\n",
      " >> tx signed\n",
      "{\"blockHeaderHash\":\"8aadbd9edd0d6b19095a41d070026535e7d47e20bcbedf751ba79bcd8c1cb4ff\",\"blockNo\":9190068,\"slotNo\":101092787}\n",
      " >> tx submitted\n",
      " >> Notified\n",
      "#########################\n",
      "\n",
      "#########################\n",
      "WaitingForNotify\n",
      "#########################\n",
      "{\"txId\":\"5e7964330e05ba44bb5f2f614867ff96511ed157085970029475c99f189ddafb\"}\n",
      " >> tx signed\n",
      "{\"blockHeaderHash\":\"e54cce093c90e422d47543474b36d2d16c445b4729e3fa8b08f4638b991bd359\",\"blockNo\":9190070,\"slotNo\":101092818}\n",
      " >> tx submitted\n",
      " >> Notified\n",
      "#########################\n",
      "\n",
      "#########################\n",
      "WaitingForNotify\n",
      "#########################\n",
      "{\"txId\":\"9c6749fb43cdd3aee9ef714215bf843df49e882a60f9a095b443b3f508387fdd\"}\n",
      " >> tx signed\n",
      "{\"blockHeaderHash\":\"eabbdd9513517a515b2829cf28bddd9a265a6fd6b605790dd5435e9dab0138f0\",\"blockNo\":9190072,\"slotNo\":101092842}\n",
      " >> tx submitted\n",
      " >> Notified\n",
      "#########################\n",
      "\n",
      "#########################\n",
      "Raffle Closed\n",
      "#########################\n"
     ]
    }
   ],
   "source": [
    "ExecuteRaffle first-prize.config first-prize.addresses first-prize.token $PRIZE1_CONTRACT"
   ]
  },
  {
   "cell_type": "markdown",
   "id": "2a0f7592-93e2-471a-b678-75e431d978d0",
   "metadata": {},
   "source": [
    "View the contract on MarloweScan."
   ]
  },
  {
   "cell_type": "code",
   "execution_count": 54,
   "id": "67e811b7-b1ff-4c2d-a8ff-8d5754aad60a",
   "metadata": {
    "tags": [],
    "vscode": {
     "languageId": "shellscript"
    }
   },
   "outputs": [
    {
     "name": "stdout",
     "output_type": "stream",
     "text": [
      "https://mainnet.marlowescan.com/contractView?tab=tx-list&contractId=9815e1a9b2bed549d60bd0b903166f79958888f727853be8690f84554e308d1d%231\n"
     ]
    }
   ],
   "source": [
    "echo \"https://mainnet.marlowescan.com/contractView?tab=tx-list&contractId=${PRIZE1_CONTRACT%%#1}%231\""
   ]
  },
  {
   "cell_type": "markdown",
   "id": "d86993df-9474-4ee5-9487-ee1177309156",
   "metadata": {},
   "source": [
    "Record the random number from that the oracle choose, listed in the output above."
   ]
  },
  {
   "cell_type": "code",
   "execution_count": 55,
   "id": "bb0d47d1-9012-4ac6-864c-387eca178b81",
   "metadata": {
    "tags": [],
    "vscode": {
     "languageId": "shellscript"
    }
   },
   "outputs": [],
   "source": [
    "PRIZE1_CHOICE=268"
   ]
  },
  {
   "cell_type": "markdown",
   "id": "b2652db2-6a36-4474-a02c-0a642ae631cd",
   "metadata": {},
   "source": [
    "Compute the address of the winner and view their prize on an explorer."
   ]
  },
  {
   "cell_type": "code",
   "execution_count": 56,
   "id": "ecb0086f-2662-455b-8cdc-588728dfc3a1",
   "metadata": {
    "tags": [],
    "vscode": {
     "languageId": "shellscript"
    }
   },
   "outputs": [
    {
     "name": "stdout",
     "output_type": "stream",
     "text": [
      "PRIZE1_WINNER = addr1qxe3seuxx0kdylmr26an7hh4xsn8z4jkk7q9ha3lun6w08dn3kr657fpa3q8mzwmjqvl9lqdn9g2pm3ejhlgwpprwy2sr0avw6\n",
      "https://cardanoscan.io/address/addr1qxe3seuxx0kdylmr26an7hh4xsn8z4jkk7q9ha3lun6w08dn3kr657fpa3q8mzwmjqvl9lqdn9g2pm3ejhlgwpprwy2sr0avw6\n"
     ]
    }
   ],
   "source": [
    "PRIZE1_WINNER=$(jq -r \".[$PRIZE1_CHOICE].payment_address\" first-prize.addresses)\n",
    "echo \"PRIZE1_WINNER = $PRIZE1_WINNER\"\n",
    "echo \"https://cardanoscan.io/address/$PRIZE1_WINNER\""
   ]
  },
  {
   "cell_type": "markdown",
   "id": "005a3b8d-809e-494f-9f10-824595ad8910",
   "metadata": {},
   "source": [
    "### Run the raffle for the second prize\n",
    "\n",
    "First create the file that describes the role token holding the second prize."
   ]
  },
  {
   "cell_type": "code",
   "execution_count": 57,
   "id": "6974befd-366e-4889-9f7f-fb46f08b9d56",
   "metadata": {
    "tags": [],
    "vscode": {
     "languageId": "shellscript"
    }
   },
   "outputs": [
    {
     "name": "stdout",
     "output_type": "stream",
     "text": [
      "[\n",
      "    [\n",
      "        \"8bb3b343d8e404472337966a722150048c768d0a92a9813596c5338d\",\n",
      "        \"2ndPrize\"\n",
      "    ]\n",
      "]\n"
     ]
    }
   ],
   "source": [
    "cat << EOI > second-prize.token\n",
    "[\n",
    "    [\n",
    "        \"$PRIZE2_POLICY\",\n",
    "        \"$PRIZE2_NAME\"\n",
    "    ]\n",
    "]\n",
    "EOI\n",
    "cat second-prize.token"
   ]
  },
  {
   "cell_type": "markdown",
   "id": "bb623faf-5c53-441a-b1aa-87596a82fac8",
   "metadata": {
    "tags": []
   },
   "source": [
    "Now create the file for those eligible for the second prize by deleting the entry for the first prize."
   ]
  },
  {
   "cell_type": "code",
   "execution_count": 58,
   "id": "0d2f380c-8a89-4df6-a35f-37a1a88b5fff",
   "metadata": {
    "tags": [],
    "vscode": {
     "languageId": "shellscript"
    }
   },
   "outputs": [],
   "source": [
    "jq \"del(.[$PRIZE1_CHOICE])\" first-prize.addresses > second-prize.addresses"
   ]
  },
  {
   "cell_type": "markdown",
   "id": "d66ea491-a53e-47e2-bf55-6f54c936d987",
   "metadata": {},
   "source": [
    "Now create the configuration file for running the raffle."
   ]
  },
  {
   "cell_type": "code",
   "execution_count": 59,
   "id": "0f67d9ed-8dfa-4595-9831-7339889eeee2",
   "metadata": {
    "tags": [],
    "vscode": {
     "languageId": "shellscript"
    }
   },
   "outputs": [
    {
     "name": "stdout",
     "output_type": "stream",
     "text": [
      "{\"chunkSize\":5,\"contract\":\"second-prize.contract\",\"deadlines\":{\"deposit\":\"3d\",\"payout\":\"3d\",\"selectWinner\":\"3d\"},\"runtimeURI\":{\"host\":\"34.70.189.123\",\"proxy_port\":3700,\"web_port\":3780},\"sponsorAddressFilePath\":\"sponsor.mainnet.address\",\"sponsorCollateralFilePath\":\"not-used\",\"sponsorPrivateKeyFilePath\":\"sponsor.skey\",\"state\":\"second-prize.state\",\"tmpTxToSign\":\"temp.unsigned\",\"tmpTxToSubmit\":\"temp.signed\"}\n"
     ]
    }
   ],
   "source": [
    "yaml2json << EOI > second-prize.config\n",
    "chunkSize: 5          # Danger: do not change the chunk size.\n",
    "deadlines:\n",
    "  deposit: 3d         # Deadline for depositing the prize token.\n",
    "  selectWinner: 3d    # Deadline for selecting the winner.\n",
    "  payout: 3d          # Deadline for paying the winner.\n",
    "runtimeURI:\n",
    "  proxy_host: 34.70.189.123  # The IP address of Marlowe Runtime v0.0.4. Use $MARLOWE_RT_HOST if a backup is needed.\n",
    "  proxy_port: 3700           # The port number for Marlowe Runtime's proxy service. Use $MARLOWE_RT_PORT for the backup.\n",
    "  web_host: 34.70.189.123    # The IP address of Marlowe Runtime v0.0.4. Use $MARLOWE_RT_WEBSERVER_HOST if a backup is needed.\n",
    "  web_port: 3780             # The port number for Marlowe Runtime's web server. Use $MARLOWE_RT_WEBSERVER_PORT for the backup.\n",
    "sponsorAddressFilePath: sponsor.mainnet.address\n",
    "sponsorCollateralFilePath: not-used\n",
    "sponsorPrivateKeyFilePath: sponsor.skey\n",
    "contract: second-prize.contract\n",
    "state: second-prize.state\n",
    "tmpTxToSign: temp.unsigned\n",
    "tmpTxToSubmit: temp.signed\n",
    "EOI\n",
    "cat second-prize.config"
   ]
  },
  {
   "cell_type": "markdown",
   "id": "b0036de7-dd43-4982-9d60-3a30f445643e",
   "metadata": {},
   "source": [
    "Now build and submit the transaction that initializes the raffle."
   ]
  },
  {
   "cell_type": "code",
   "execution_count": 60,
   "id": "b4f121c1-e161-4ddc-bf6f-f45541bf5f5e",
   "metadata": {
    "tags": [],
    "vscode": {
     "languageId": "shellscript"
    }
   },
   "outputs": [
    {
     "name": "stdout",
     "output_type": "stream",
     "text": [
      "#########################\n",
      "Raffle Contract Generation & Initialisation\n",
      "-------------------------\n",
      " >> Raffle Contract saved in : second-prize.contract\n",
      "-------------------------\n",
      "Raffle Contract Generated\n",
      "-------------------------\n",
      " >> Contract stored with hash: 428cade8bc26e876771c853ef51a00b629f2f342f2566a509ea4e08ed4a409a8\n",
      "Safety analysis found the following errors in the contract:\n",
      "- detail: The safety analysis exceeded the allotted time.\n",
      "  error: SafetyAnalysisTimeout\n",
      "  fatal: false\n",
      "\n",
      "{\"contractId\":\"03af66e2a7555055ba5a3ef0e33fe7b54d28c6dc0cdbf0e58fb359a677faa064#1\"}\n",
      " >> tx signed\n",
      "{\"blockHeaderHash\":\"b5024f915888c5f202096e51ac2234722633099bfa1f660c501512e2be8bbd9c\",\"blockNo\":9190182,\"slotNo\":101095005}\n",
      " >> tx submitted\n",
      " >> Contract initialzed (tx appended)\n",
      "-------------------------\n",
      "Raffle Contract Initialized : {\"contractId\":\"03af66e2a7555055ba5a3ef0e33fe7b54d28c6dc0cdbf0e58fb359a677faa064#1\"}\n",
      "-------------------------\n",
      "#########################\n",
      "{\"contractId\":\"03af66e2a7555055ba5a3ef0e33fe7b54d28c6dc0cdbf0e58fb359a677faa064#1\"}\n"
     ]
    }
   ],
   "source": [
    "InitializeRaffle second-prize.config second-prize.addresses second-prize.token"
   ]
  },
  {
   "cell_type": "markdown",
   "id": "62ae25ab-ea9f-479a-bd1c-06ef534981c7",
   "metadata": {},
   "source": [
    "Record the contract ID that was printed."
   ]
  },
  {
   "cell_type": "code",
   "execution_count": 61,
   "id": "0a3f05ad-aa18-469c-a7d3-01bf5ea59700",
   "metadata": {
    "tags": [],
    "vscode": {
     "languageId": "shellscript"
    }
   },
   "outputs": [],
   "source": [
    "PRIZE2_CONTRACT=03af66e2a7555055ba5a3ef0e33fe7b54d28c6dc0cdbf0e58fb359a677faa064#1"
   ]
  },
  {
   "cell_type": "markdown",
   "id": "03a001ca-decc-4a62-87fc-194179a27b66",
   "metadata": {
    "tags": []
   },
   "source": [
    "Run the raffle itself, which consists of several transactions."
   ]
  },
  {
   "cell_type": "code",
   "execution_count": 62,
   "id": "4fec86b5-7bb3-48fe-9998-4f0388acac47",
   "metadata": {
    "tags": [],
    "vscode": {
     "languageId": "shellscript"
    }
   },
   "outputs": [
    {
     "name": "stdout",
     "output_type": "stream",
     "text": [
      "\n",
      "#########################\n",
      "WaitingForPrizeDeposit\n",
      " >> Depositing 2ndPrize\n",
      "{\"txId\":\"50124e1cf2e566a4a0e2b92230df36500083ef7cca009e19b35859596890fc0f\"}\n",
      " >> tx signed\n",
      "{\"blockHeaderHash\":\"777eb3565f165a9c4eacb4db88499b043911e17eeef0e4b5d2d9c8b7c3fdd6f8\",\"blockNo\":9190187,\"slotNo\":101095125}\n",
      " >> tx submitted\n",
      " >> 2ndPrize deposited\n",
      ">>>> Prize NFTs Deposited\n",
      "#########################\n",
      "\n",
      "#########################\n",
      "WaitingForOracle\n",
      "#########################\n",
      "{\"txId\":\"809d73f273786ffa76e3f81e976919234694f28fae5942ec58873689b8d8f5b4\"}\n",
      " >> tx signed\n",
      "{\"blockHeaderHash\":\"161e94c6c4d446b7fa47f0659780c53420e6e56ec6f54f599aed26c40fe34593\",\"blockNo\":9190188,\"slotNo\":101095141}\n",
      " >> tx submitted\n",
      ">>>> Oracle has answered with 180\n",
      ">>>> Winning ticket is 5469636b657423343737 (Ticket#477)\n",
      ">>>> Snapshotted address is addr1q9flz39mjz7pqafjmrrstctdu6ttls3wnhm08y3l7q8cq3wr7cz4mu6gh005gdck67p7y9d8s8zsfgjkcdy75mrjh6jqmrx7sg\n",
      "#########################\n",
      "\n",
      "#########################\n",
      "WaitingForNotify\n",
      "#########################\n",
      "{\"txId\":\"a9d81c5b183622d4eced2a2356fe381e1b16186459a54c2f53a08f295f989af2\"}\n",
      " >> tx signed\n",
      "{\"blockHeaderHash\":\"623d216d0e765abd18e7c43bffa6cb5a2ff4b5420a924cd9861b1b51028fb94d\",\"blockNo\":9190189,\"slotNo\":101095155}\n",
      " >> tx submitted\n",
      " >> Notified\n",
      "#########################\n",
      "\n",
      "#########################\n",
      "WaitingForNotify\n",
      "#########################\n",
      "{\"txId\":\"f6e9284b97c3c1802278b7bcb809f4a6a38057e105d28925328c958deec0b77f\"}\n",
      " >> tx signed\n",
      "{\"blockHeaderHash\":\"94c09cdd9e3915f16118658b4f5921cc539878b76132a1f9ca544f20b6c59d82\",\"blockNo\":9190191,\"slotNo\":101095208}\n",
      " >> tx submitted\n",
      " >> Notified\n",
      "#########################\n",
      "\n",
      "#########################\n",
      "WaitingForNotify\n",
      "#########################\n",
      "{\"txId\":\"cd73ad8670812227eb1120363c58e307b347faaba14c11a0fa20d4cc46962767\"}\n",
      " >> tx signed\n",
      "{\"blockHeaderHash\":\"e43340acf9c6cdb6e3812493b75884f20b8b7c4defeb38f6f9c9b0af4dae4dfa\",\"blockNo\":9190194,\"slotNo\":101095252}\n",
      " >> tx submitted\n",
      " >> Notified\n",
      "#########################\n",
      "\n",
      "#########################\n",
      "WaitingForNotify\n",
      "#########################\n",
      "{\"txId\":\"047af8f9788b7d574052a74dc627aa43a04dd3aa416662ce23f99608492ce206\"}\n",
      " >> tx signed\n",
      "{\"blockHeaderHash\":\"81b60b104621b09e5324f014af56348e8e1d1e6675843662de3309acf7e5e589\",\"blockNo\":9190195,\"slotNo\":101095272}\n",
      " >> tx submitted\n",
      " >> Notified\n",
      "#########################\n",
      "\n",
      "#########################\n",
      "Raffle Closed\n",
      "#########################\n"
     ]
    }
   ],
   "source": [
    "ExecuteRaffle second-prize.config second-prize.addresses second-prize.token $PRIZE2_CONTRACT"
   ]
  },
  {
   "cell_type": "markdown",
   "id": "d9082169-cf4f-4ebf-9c22-4f0298018741",
   "metadata": {},
   "source": [
    "View the contract on MarloweScan."
   ]
  },
  {
   "cell_type": "code",
   "execution_count": 63,
   "id": "2efff164-eceb-4055-bd4c-44ccf923cb12",
   "metadata": {
    "tags": [],
    "vscode": {
     "languageId": "shellscript"
    }
   },
   "outputs": [
    {
     "name": "stdout",
     "output_type": "stream",
     "text": [
      "https://mainnet.marlowescan.com/contractView?tab=tx-list&contractId=03af66e2a7555055ba5a3ef0e33fe7b54d28c6dc0cdbf0e58fb359a677faa064%231\n"
     ]
    }
   ],
   "source": [
    "echo \"https://mainnet.marlowescan.com/contractView?tab=tx-list&contractId=${PRIZE2_CONTRACT%%#1}%231\""
   ]
  },
  {
   "cell_type": "markdown",
   "id": "1c7fdf80-2b04-4a7a-9838-50c3d0498206",
   "metadata": {},
   "source": [
    "Record the random number from that the oracle choose, listed in the output above."
   ]
  },
  {
   "cell_type": "code",
   "execution_count": 64,
   "id": "a6678eb4-7222-4202-98fc-cbc8673e0457",
   "metadata": {
    "tags": [],
    "vscode": {
     "languageId": "shellscript"
    }
   },
   "outputs": [],
   "source": [
    "PRIZE2_CHOICE=180"
   ]
  },
  {
   "cell_type": "markdown",
   "id": "3dea7d9d-94cf-491a-a637-ba24db08c853",
   "metadata": {},
   "source": [
    "Compute the address of the winner and view their prize on an explorer."
   ]
  },
  {
   "cell_type": "code",
   "execution_count": 65,
   "id": "0118fa3a-78ae-452e-b847-f1f9bbfb57df",
   "metadata": {
    "tags": [],
    "vscode": {
     "languageId": "shellscript"
    }
   },
   "outputs": [
    {
     "name": "stdout",
     "output_type": "stream",
     "text": [
      "PRIZE2_WINNER = addr1q9flz39mjz7pqafjmrrstctdu6ttls3wnhm08y3l7q8cq3wr7cz4mu6gh005gdck67p7y9d8s8zsfgjkcdy75mrjh6jqmrx7sg\n",
      "https://cardanoscan.io/address/addr1q9flz39mjz7pqafjmrrstctdu6ttls3wnhm08y3l7q8cq3wr7cz4mu6gh005gdck67p7y9d8s8zsfgjkcdy75mrjh6jqmrx7sg\n"
     ]
    }
   ],
   "source": [
    "PRIZE2_WINNER=$(jq -r \".[$PRIZE2_CHOICE].payment_address\" second-prize.addresses)\n",
    "echo \"PRIZE2_WINNER = $PRIZE2_WINNER\"\n",
    "echo \"https://cardanoscan.io/address/$PRIZE2_WINNER\""
   ]
  },
  {
   "cell_type": "markdown",
   "id": "067ff5ae-4ffc-47c5-a642-eaffde4226e3",
   "metadata": {},
   "source": [
    "### Run the raffle for the thrid prize\n",
    "\n",
    "First create the file that describes the role token holding the third prize."
   ]
  },
  {
   "cell_type": "code",
   "execution_count": 66,
   "id": "cc8f83a9-bdfa-4662-8284-9e81831dcf14",
   "metadata": {
    "tags": [],
    "vscode": {
     "languageId": "shellscript"
    }
   },
   "outputs": [
    {
     "name": "stdout",
     "output_type": "stream",
     "text": [
      "[\n",
      "    [\n",
      "        \"8bb3b343d8e404472337966a722150048c768d0a92a9813596c5338d\",\n",
      "        \"3rdPrize\"\n",
      "    ]\n",
      "]\n"
     ]
    }
   ],
   "source": [
    "cat << EOI > third-prize.token\n",
    "[\n",
    "    [\n",
    "        \"$PRIZE3_POLICY\",\n",
    "        \"$PRIZE3_NAME\"\n",
    "    ]\n",
    "]\n",
    "EOI\n",
    "cat third-prize.token"
   ]
  },
  {
   "cell_type": "markdown",
   "id": "0a5b1634-c01b-42ee-83f5-b347c3a9fb45",
   "metadata": {
    "tags": []
   },
   "source": [
    "Now create the file for those eligible for the second prize by deleting the entry for the second prize."
   ]
  },
  {
   "cell_type": "code",
   "execution_count": 67,
   "id": "3bc1b99f-6ccc-4a92-b3fc-8fb196becf69",
   "metadata": {
    "tags": [],
    "vscode": {
     "languageId": "shellscript"
    }
   },
   "outputs": [],
   "source": [
    "jq \"del(.[$PRIZE2_CHOICE])\" second-prize.addresses > third-prize.addresses"
   ]
  },
  {
   "cell_type": "markdown",
   "id": "69bbcb78-d1bc-487c-bbee-9ba8631b3e33",
   "metadata": {},
   "source": [
    "Now create the configuration file for running the raffle."
   ]
  },
  {
   "cell_type": "code",
   "execution_count": 68,
   "id": "9198b3d4-e1c8-4321-b38d-4a0079b63064",
   "metadata": {
    "tags": [],
    "vscode": {
     "languageId": "shellscript"
    }
   },
   "outputs": [
    {
     "name": "stdout",
     "output_type": "stream",
     "text": [
      "{\"chunkSize\":5,\"contract\":\"third-prize.contract\",\"deadlines\":{\"deposit\":\"3d\",\"payout\":\"3d\",\"selectWinner\":\"3d\"},\"runtimeURI\":{\"host\":\"34.70.189.123\",\"proxy_port\":3700,\"web_port\":3780},\"sponsorAddressFilePath\":\"sponsor.mainnet.address\",\"sponsorCollateralFilePath\":\"not-used\",\"sponsorPrivateKeyFilePath\":\"sponsor.skey\",\"state\":\"third-prize.state\",\"tmpTxToSign\":\"temp.unsigned\",\"tmpTxToSubmit\":\"temp.signed\"}\n"
     ]
    }
   ],
   "source": [
    "yaml2json << EOI > third-prize.config\n",
    "chunkSize: 5          # Danger: do not change the chunk size.\n",
    "deadlines:\n",
    "  deposit: 3d         # Deadline for depositing the prize token.\n",
    "  selectWinner: 3d    # Deadline for selecting the winner.\n",
    "  payout: 3d          # Deadline for paying the winner.\n",
    "runtimeURI:\n",
    "  proxy_host: 34.70.189.123  # The IP address of Marlowe Runtime v0.0.4. Use $MARLOWE_RT_HOST if a backup is needed.\n",
    "  proxy_port: 3700           # The port number for Marlowe Runtime's proxy service. Use $MARLOWE_RT_PORT for the backup.\n",
    "  web_host: 34.70.189.123    # The IP address of Marlowe Runtime v0.0.4. Use $MARLOWE_RT_WEBSERVER_HOST if a backup is needed.\n",
    "  web_port: 3780             # The port number for Marlowe Runtime's web server. Use $MARLOWE_RT_WEBSERVER_PORT for the backup.\n",
    "sponsorAddressFilePath: sponsor.mainnet.address\n",
    "sponsorCollateralFilePath: not-used\n",
    "sponsorPrivateKeyFilePath: sponsor.skey\n",
    "contract: third-prize.contract\n",
    "state: third-prize.state\n",
    "tmpTxToSign: temp.unsigned\n",
    "tmpTxToSubmit: temp.signed\n",
    "EOI\n",
    "cat third-prize.config"
   ]
  },
  {
   "cell_type": "markdown",
   "id": "b24930dc-1f58-4391-a00b-889b3a92cc88",
   "metadata": {},
   "source": [
    "Now build and submit the transaction that initializes the raffle."
   ]
  },
  {
   "cell_type": "code",
   "execution_count": 69,
   "id": "17e06f2f-5298-417a-aea7-b8594e5c6b2d",
   "metadata": {
    "tags": [],
    "vscode": {
     "languageId": "shellscript"
    }
   },
   "outputs": [
    {
     "name": "stdout",
     "output_type": "stream",
     "text": [
      "#########################\n",
      "Raffle Contract Generation & Initialisation\n",
      "-------------------------\n",
      " >> Raffle Contract saved in : third-prize.contract\n",
      "-------------------------\n",
      "Raffle Contract Generated\n",
      "-------------------------\n",
      " >> Contract stored with hash: 3d91c0acbcf577016754daaf79c42e7aa02b04b177bd5c568573373b0bf468c3\n",
      "Safety analysis found the following errors in the contract:\n",
      "- detail: The safety analysis exceeded the allotted time.\n",
      "  error: SafetyAnalysisTimeout\n",
      "  fatal: false\n",
      "\n",
      "{\"contractId\":\"6f13134c0d76c66ca23628cfef1b18bf26f05c7980998af926cb1673795b5dd2#1\"}\n",
      " >> tx signed\n",
      "{\"blockHeaderHash\":\"6c3a7444b9cf43c666de16d3fe12a05053c3ca325fb195762dd50f17e4cea938\",\"blockNo\":9190202,\"slotNo\":101095430}\n",
      " >> tx submitted\n",
      " >> Contract initialzed (tx appended)\n",
      "-------------------------\n",
      "Raffle Contract Initialized : {\"contractId\":\"6f13134c0d76c66ca23628cfef1b18bf26f05c7980998af926cb1673795b5dd2#1\"}\n",
      "-------------------------\n",
      "#########################\n",
      "{\"contractId\":\"6f13134c0d76c66ca23628cfef1b18bf26f05c7980998af926cb1673795b5dd2#1\"}\n"
     ]
    }
   ],
   "source": [
    "InitializeRaffle third-prize.config third-prize.addresses third-prize.token"
   ]
  },
  {
   "cell_type": "markdown",
   "id": "12262727-3f5c-4b56-aa55-c78396907add",
   "metadata": {},
   "source": [
    "Record the contract ID that was printed."
   ]
  },
  {
   "cell_type": "code",
   "execution_count": 70,
   "id": "54c96c16-5fee-41b3-9d08-550371c115b8",
   "metadata": {
    "tags": [],
    "vscode": {
     "languageId": "shellscript"
    }
   },
   "outputs": [],
   "source": [
    "PRIZE3_CONTRACT=6f13134c0d76c66ca23628cfef1b18bf26f05c7980998af926cb1673795b5dd2#1"
   ]
  },
  {
   "cell_type": "markdown",
   "id": "31e55302-2424-4fcc-983b-e04a24733459",
   "metadata": {
    "tags": []
   },
   "source": [
    "Run the raffle itself, which consists of several transactions."
   ]
  },
  {
   "cell_type": "code",
   "execution_count": 71,
   "id": "b9e5e2c5-3c8b-402e-b331-bb150d59195e",
   "metadata": {
    "tags": [],
    "vscode": {
     "languageId": "shellscript"
    }
   },
   "outputs": [
    {
     "name": "stdout",
     "output_type": "stream",
     "text": [
      "\n",
      "#########################\n",
      "WaitingForPrizeDeposit\n",
      " >> Depositing 3rdPrize\n",
      "{\"txId\":\"397a5f5c6a844fe8927cc34da34cc723140382b1c2f68bc6ce0a0f1d1c5cd016\"}\n",
      " >> tx signed\n",
      "{\"blockHeaderHash\":\"67b9c51d47f0a363729894e2f9dcfea933c522778c30a16eb51192b315df43ef\",\"blockNo\":9190205,\"slotNo\":101095492}\n",
      " >> tx submitted\n",
      " >> 3rdPrize deposited\n",
      ">>>> Prize NFTs Deposited\n",
      "#########################\n",
      "\n",
      "#########################\n",
      "WaitingForOracle\n",
      "#########################\n",
      "{\"txId\":\"94c816b355c993138e71e62b995d1e6e8ba6cb87fd2e164b184aa6634335a4c4\"}\n",
      " >> tx signed\n",
      "{\"blockHeaderHash\":\"1eaa3ca0d47687d031d4ee8fcd7897e8792fadda1851bbe96a48f4ab8d8d93ff\",\"blockNo\":9190206,\"slotNo\":101095505}\n",
      " >> tx submitted\n",
      ">>>> Oracle has answered with 70\n",
      ">>>> Winning ticket is 5469636b657423353736 (Ticket#576)\n",
      ">>>> Snapshotted address is addr1q8trv6h2t62prkw5kgt2et62fy068ed0u055glrednxwqm9n3kr657fpa3q8mzwmjqvl9lqdn9g2pm3ejhlgwpprwy2sll9f6w\n",
      "#########################\n",
      "\n",
      "#########################\n",
      "WaitingForNotify\n",
      "#########################\n",
      "{\"txId\":\"708a11e2d9abcad5e462f1b00932c73ab9df8b88421069143c74d9be996c5590\"}\n",
      " >> tx signed\n",
      "{\"blockHeaderHash\":\"cd34b9e82d245f12cd1a21249bc36bdf62281c79763f80c0820a2fcf124652ef\",\"blockNo\":9190208,\"slotNo\":101095528}\n",
      " >> tx submitted\n",
      " >> Notified\n",
      "#########################\n",
      "\n",
      "#########################\n",
      "WaitingForNotify\n",
      "#########################\n",
      "{\"txId\":\"47ea2a40160d0818ffb5e15de81e461bdfb84365915a92fd8f23d9407b25f746\"}\n",
      " >> tx signed\n",
      "{\"blockHeaderHash\":\"35af87be69a72432c4b76dd15aee90baf4be110c3734d48b3ac114994fb89718\",\"blockNo\":9190209,\"slotNo\":101095539}\n",
      " >> tx submitted\n",
      " >> Notified\n",
      "#########################\n",
      "\n",
      "#########################\n",
      "WaitingForNotify\n",
      "#########################\n",
      "{\"txId\":\"d0ecdbc69d844baca2a8595e4bb7162ea0cb84b0322ebf4368d0699c529eb220\"}\n",
      " >> tx signed\n",
      "{\"blockHeaderHash\":\"11625d2320a1eef6702a6eced94621ba23242b729bcac484aebd5f8ac7ca66f6\",\"blockNo\":9190211,\"slotNo\":101095552}\n",
      " >> tx submitted\n",
      " >> Notified\n",
      "#########################\n",
      "\n",
      "#########################\n",
      "WaitingForNotify\n",
      "#########################\n",
      "{\"txId\":\"8a39b757a15dab809790a19329101b7ac7fb612cf9effb126f99de9cd75be9ff\"}\n",
      " >> tx signed\n",
      "{\"blockHeaderHash\":\"a13b3a25229b2ce0a0f262d548d5cf563434783c26819542714f813458cdcc2a\",\"blockNo\":9190212,\"slotNo\":101095588}\n",
      " >> tx submitted\n",
      " >> Notified\n",
      "#########################\n",
      "\n",
      "#########################\n",
      "Raffle Closed\n",
      "#########################\n"
     ]
    }
   ],
   "source": [
    "ExecuteRaffle third-prize.config third-prize.addresses third-prize.token $PRIZE3_CONTRACT"
   ]
  },
  {
   "cell_type": "markdown",
   "id": "f8986fb8-8c43-436b-9071-51dc0655bc13",
   "metadata": {},
   "source": [
    "View the contract on MarloweScan."
   ]
  },
  {
   "cell_type": "code",
   "execution_count": 72,
   "id": "c348e101-c7b6-478c-a45e-d008c7645903",
   "metadata": {
    "tags": [],
    "vscode": {
     "languageId": "shellscript"
    }
   },
   "outputs": [
    {
     "name": "stdout",
     "output_type": "stream",
     "text": [
      "https://mainnet.marlowescan.com/contractView?tab=tx-list&contractId=6f13134c0d76c66ca23628cfef1b18bf26f05c7980998af926cb1673795b5dd2%231\n"
     ]
    }
   ],
   "source": [
    "echo \"https://mainnet.marlowescan.com/contractView?tab=tx-list&contractId=${PRIZE3_CONTRACT%%#1}%231\""
   ]
  },
  {
   "cell_type": "markdown",
   "id": "5f15dd39-3b1f-4c4b-aa3d-b7dee2317b5e",
   "metadata": {},
   "source": [
    "Record the random number from that the oracle choose, listed in the output above."
   ]
  },
  {
   "cell_type": "code",
   "execution_count": 73,
   "id": "509992e6-3e8d-4e1e-bfc6-174fad5092d3",
   "metadata": {
    "tags": [],
    "vscode": {
     "languageId": "shellscript"
    }
   },
   "outputs": [],
   "source": [
    "PRIZE3_CHOICE=70"
   ]
  },
  {
   "cell_type": "markdown",
   "id": "b76c1034-132f-4a44-907e-b449014ec956",
   "metadata": {},
   "source": [
    "Compute the address of the winner and view their prize on an explorer."
   ]
  },
  {
   "cell_type": "code",
   "execution_count": 74,
   "id": "ed2a82a2-1647-41df-9e7a-47d09d480b6f",
   "metadata": {
    "tags": [],
    "vscode": {
     "languageId": "shellscript"
    }
   },
   "outputs": [
    {
     "name": "stdout",
     "output_type": "stream",
     "text": [
      "PRIZE3_WINNER = addr1q8trv6h2t62prkw5kgt2et62fy068ed0u055glrednxwqm9n3kr657fpa3q8mzwmjqvl9lqdn9g2pm3ejhlgwpprwy2sll9f6w\n",
      "https://cardanoscan.io/address/addr1q8trv6h2t62prkw5kgt2et62fy068ed0u055glrednxwqm9n3kr657fpa3q8mzwmjqvl9lqdn9g2pm3ejhlgwpprwy2sll9f6w\n"
     ]
    }
   ],
   "source": [
    "PRIZE3_WINNER=$(jq -r \".[$PRIZE3_CHOICE].payment_address\" third-prize.addresses)\n",
    "echo \"PRIZE3_WINNER = $PRIZE3_WINNER\"\n",
    "echo \"https://cardanoscan.io/address/$PRIZE3_WINNER\""
   ]
  }
 ],
 "metadata": {
  "kernelspec": {
   "display_name": "Bash with Marlowe Tools",
   "language": "bash",
   "name": "bash-minimal"
  },
  "language_info": {
   "codemirror_mode": "shell",
   "file_extension": ".sh",
   "mimetype": "text/x-sh",
   "name": "bash"
  }
 },
 "nbformat": 4,
 "nbformat_minor": 5
}
